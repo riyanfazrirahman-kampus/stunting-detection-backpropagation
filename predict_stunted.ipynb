{
 "cells": [
  {
   "cell_type": "code",
   "execution_count": 1,
   "id": "7b42b2cf",
   "metadata": {},
   "outputs": [],
   "source": [
    "import numpy as np\n",
    "from sklearn.preprocessing import MinMaxScaler\n",
    "\n",
    "import matplotlib.pyplot as plt\n",
    "import seaborn as sns\n",
    "from joblib import load"
   ]
  },
  {
   "cell_type": "code",
   "execution_count": 2,
   "id": "e14041d9",
   "metadata": {},
   "outputs": [],
   "source": [
    "# Fungsi untuk memuat bobot\n",
    "def load_model(file_path):\n",
    "    data = np.load(file_path)\n",
    "    W1 = data['W1']\n",
    "    b1 = data['b1']\n",
    "    W2 = data['W2']\n",
    "    b2 = data['b2']\n",
    "    W3 = data['W3']\n",
    "    b3 = data['b3']\n",
    "    input_dim = data['input_dim']\n",
    "    hidden1_dim = data['hidden1_dim']\n",
    "    hidden2_dim = data['hidden2_dim']\n",
    "    output_dim = data['output_dim']\n",
    "    return W1, b1, W2, b2, W3, b3, input_dim, hidden1_dim, hidden2_dim, output_dim\n",
    "\n",
    "# Fungsi forward pass (sama seperti yang Anda buat)\n",
    "def forward_pass(X, W1, b1, W2, b2, W3, b3):\n",
    "    Z1 = np.dot(X, W1) + b1\n",
    "    A1 = np.tanh(Z1)\n",
    "    Z2 = np.dot(A1, W2) + b2\n",
    "    A2 = np.tanh(Z2)\n",
    "    Z3 = np.dot(A2, W3) + b3\n",
    "    A3 = np.exp(Z3) / np.sum(np.exp(Z3), axis=1, keepdims=True)  # Softmax\n",
    "    return A3  # Hanya return output softmax untuk prediksi\n"
   ]
  },
  {
   "cell_type": "code",
   "execution_count": 3,
   "id": "33d1bf2f",
   "metadata": {},
   "outputs": [],
   "source": [
    "# Fungsi prediksi\n",
    "def predict(X, W1, b1, W2, b2, W3, b3, classes, scaler):\n",
    "    X_normalized = scaler.transform(X)  # Normalisasi input\n",
    "    A3 = forward_pass(X_normalized, W1, b1, W2, b2, W3, b3)\n",
    "    predictions = np.argmax(A3, axis=1)\n",
    "    return classes[predictions]"
   ]
  },
  {
   "cell_type": "code",
   "execution_count": 12,
   "id": "7f687f55",
   "metadata": {},
   "outputs": [
    {
     "name": "stdout",
     "output_type": "stream",
     "text": [
      "Prediksi status gizi untuk data baru:\n",
      "Data 1: Normal\n",
      "Data 2: Normal\n"
     ]
    }
   ],
   "source": [
    "\n",
    "# Muat model dan konfigurasi\n",
    "model_file = 'model/stunted_model.npz'\n",
    "W1, b1, W2, b2, W3, b3, input_dim, hidden1_dim, hidden2_dim, output_dim = load_model(model_file)\n",
    "\n",
    "# Definisikan kelas (sesuaikan dengan yang ada di pelatihan)\n",
    "status_gizi_classes = np.array(['Normal', 'Stunted', 'Wasted', 'Overweight'])  # Ganti dengan kelas aktual Anda\n",
    "\n",
    "# Inisialisasi scaler (harus sama dengan yang digunakan saat pelatihan)\n",
    "# Muat scaler yang disimpan\n",
    "scaler = load('model/scaler.joblib')\n",
    "\n",
    "# Contoh penggunaan dengan input baru\n",
    "# Input: [Umur (bulan), Jenis Kelamin (0/1), Tinggi Badan (cm)]\n",
    "new_data = np.array([[14, 1, 45],  # Contoh data baru\n",
    "                     [12, 1, 40]])  # Contoh data baru\n",
    "\n",
    "# Lakukan prediksi\n",
    "predictions = predict(new_data, W1, b1, W2, b2, W3, b3, status_gizi_classes, scaler)\n",
    "print(\"Prediksi status gizi untuk data baru:\")\n",
    "for i, pred in enumerate(predictions):\n",
    "    print(f\"Data {i+1}: {pred}\")"
   ]
  }
 ],
 "metadata": {
  "kernelspec": {
   "display_name": "Python 3",
   "language": "python",
   "name": "python3"
  },
  "language_info": {
   "codemirror_mode": {
    "name": "ipython",
    "version": 3
   },
   "file_extension": ".py",
   "mimetype": "text/x-python",
   "name": "python",
   "nbconvert_exporter": "python",
   "pygments_lexer": "ipython3",
   "version": "3.12.2"
  }
 },
 "nbformat": 4,
 "nbformat_minor": 5
}
